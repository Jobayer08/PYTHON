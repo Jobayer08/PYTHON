{
 "cells": [
  {
   "cell_type": "code",
   "execution_count": 1,
   "id": "1a9f06a9-9454-4a98-8620-ef0e104fe030",
   "metadata": {},
   "outputs": [
    {
     "name": "stdout",
     "output_type": "stream",
     "text": [
      "Original array: [ 72  85  91  78  88  65  95  80  70 105]\n",
      "Q1 (25th percentile): 73.5\n",
      "Q2 (50th percentile): 82.5\n",
      "Q3 (75th percentile): 90.25\n"
     ]
    }
   ],
   "source": [
    "import numpy as np\n",
    "exam_scores = np.array( [72, 85, 91, 78, 88, 65, 95, 80, 70, 105])\n",
    "print(\"Original array:\", exam_scores)\n",
    "q1=np.percentile(exam_scores, 25)\n",
    "q2=np.percentile(exam_scores, 50)\n",
    "q3=np.percentile(exam_scores, 75)\n",
    "print(\"Q1 (25th percentile):\", q1)\n",
    "print(\"Q2 (50th percentile):\", q2)\n",
    "print(\"Q3 (75th percentile):\", q3)\n"
   ]
  },
  {
   "cell_type": "code",
   "execution_count": 2,
   "id": "406f52d6-0b0e-4b2e-85c8-33371ab41e3c",
   "metadata": {},
   "outputs": [],
   "source": [
    "iqr=q3-q1"
   ]
  },
  {
   "cell_type": "code",
   "execution_count": 3,
   "id": "50b7d2b6-3f82-4d31-b291-437f380b18dc",
   "metadata": {},
   "outputs": [
    {
     "data": {
      "text/plain": [
       "np.float64(16.75)"
      ]
     },
     "execution_count": 3,
     "metadata": {},
     "output_type": "execute_result"
    }
   ],
   "source": [
    "iqr"
   ]
  },
  {
   "cell_type": "code",
   "execution_count": 6,
   "id": "711b2644-de29-46bf-b019-1d6e6cf451d2",
   "metadata": {},
   "outputs": [],
   "source": [
    "import matplotlib.pyplot as plt"
   ]
  },
  {
   "cell_type": "code",
   "execution_count": 9,
   "id": "e5e4bcef-4628-4158-a01b-5e5ca46372d5",
   "metadata": {},
   "outputs": [
    {
     "name": "stdout",
     "output_type": "stream",
     "text": [
      "48.375 115.375\n"
     ]
    }
   ],
   "source": [
    "min=q1-(1.5*iqr)\n",
    "max=q3+(1.5*iqr)\n",
    "print(min,max)"
   ]
  },
  {
   "cell_type": "code",
   "execution_count": 13,
   "id": "06f69fc1-61e9-47f6-a611-788262d0c8d4",
   "metadata": {},
   "outputs": [
    {
     "data": {
      "image/png": "[encoded data removed]",
      "text/plain": [
       "<Figure size 640x480 with 1 Axes>"
      ]
     },
     "metadata": {},
     "output_type": "display_data"
    }
   ],
   "source": [
    "plt.title(\"box\")\n",
    "plt.boxplot(x=exam_scores,orientation='horizontal')\n",
    "plt.grid(True)\n",
    "plt.show()"
   ]
  },
  {
   "cell_type": "code",
   "execution_count": null,
   "id": "75b664e9-c70f-4e19-9bbf-6149197a5ea9",
   "metadata": {},
   "outputs": [],
   "source": []
  }
 ],
 "metadata": {
  "kernelspec": {
   "display_name": "Python 3 (ipykernel)",
   "language": "python",
   "name": "python3"
  },
  "language_info": {
   "codemirror_mode": {
    "name": "ipython",
    "version": 3
   },
   "file_extension": ".py",
   "mimetype": "text/x-python",
   "name": "python",
   "nbconvert_exporter": "python",
   "pygments_lexer": "ipython3",
   "version": "3.13.5"
  }
 },
 "nbformat": 4,
 "nbformat_minor": 5
}
