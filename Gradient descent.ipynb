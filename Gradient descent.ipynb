{
 "cells": [
  {
   "cell_type": "code",
   "execution_count": 3,
   "id": "0fd2327f-82e8-4411-82e7-38889a71aaea",
   "metadata": {},
   "outputs": [],
   "source": [
    "from sklearn.metrics import r2_score\n",
    "from sklearn.linear_model import SGDRegressor\n",
    "from sklearn.model_selection import train_test_split\n",
    "from sklearn.datasets import make_regression\n",
    "\n",
    "X,y = make_regression(n_samples=100,\n",
    "                      n_features=1,\n",
    "                      random_state=42,\n",
    "                      noise=20)"
   ]
  },
  {
   "cell_type": "code",
   "execution_count": 4,
   "id": "343bb798-abcd-425f-9963-10b351be96f1",
   "metadata": {},
   "outputs": [
    {
     "name": "stdout",
     "output_type": "stream",
     "text": [
      "✅ ডেটা ভাগ সম্পন্ন হয়েছে:\n",
      "Train size: 70\n",
      "Test size: 30\n",
      "-----------------------------------\n"
     ]
    }
   ],
   "source": [
    "X_train, X_test, y_train, y_test = train_test_split(X, y, test_size=30, random_state=42)\n",
    "print(\"✅ ডেটা ভাগ সম্পন্ন হয়েছে:\")\n",
    "print(\"Train size:\", len(X_train))\n",
    "print(\"Test size:\", len(X_test))\n",
    "print(\"-----------------------------------\")\n"
   ]
  },
  {
   "cell_type": "code",
   "execution_count": 5,
   "id": "f055a23f-0902-4251-9b36-d95e3bb89b07",
   "metadata": {},
   "outputs": [
    {
     "name": "stdout",
     "output_type": "stream",
     "text": [
      "✅ Gradient Descent ভিত্তিক Linear Regression মডেল তৈরি সম্পন্ন হয়েছে।\n",
      "-----------------------------------\n"
     ]
    }
   ],
   "source": [
    "model_normal = SGDRegressor()\n",
    "print(\"✅ Gradient Descent ভিত্তিক Linear Regression মডেল তৈরি সম্পন্ন হয়েছে।\")\n",
    "print(\"-----------------------------------\")"
   ]
  },
  {
   "cell_type": "code",
   "execution_count": 6,
   "id": "5dbf51dc-dee8-4d97-ae20-d2a14abd7d56",
   "metadata": {},
   "outputs": [
    {
     "name": "stdout",
     "output_type": "stream",
     "text": [
      "✅ মডেল ট্রেনিং সম্পন্ন!\n",
      "Weights (coefficients): [46.88661952]\n",
      "Intercept (bias): [-0.75799408]\n",
      "-----------------------------------\n"
     ]
    }
   ],
   "source": [
    "model_normal.fit(X_train, y_train)\n",
    "print(\"✅ মডেল ট্রেনিং সম্পন্ন!\")\n",
    "print(\"Weights (coefficients):\", model_normal.coef_)\n",
    "print(\"Intercept (bias):\", model_normal.intercept_)\n",
    "print(\"-----------------------------------\")\n"
   ]
  },
  {
   "cell_type": "code",
   "execution_count": 7,
   "id": "4e02fb2c-2ae5-4f3c-b300-8189f9cec568",
   "metadata": {},
   "outputs": [
    {
     "name": "stdout",
     "output_type": "stream",
     "text": [
      "✅ প্রেডিকশন সম্পন্ন!\n",
      "First 5 Predictions: [-63.03214801  68.53546169  37.338595   -19.14261987 -11.73665427]\n",
      "-----------------------------------\n"
     ]
    }
   ],
   "source": [
    "y_pred = model_normal.predict(X_test)\n",
    "print(\"✅ প্রেডিকশন সম্পন্ন!\")\n",
    "print(\"First 5 Predictions:\", y_pred[:5])\n",
    "print(\"-----------------------------------\")\n"
   ]
  },
  {
   "cell_type": "code",
   "execution_count": null,
   "id": "d55c426d-be9b-482c-907a-04ee929e8495",
   "metadata": {},
   "outputs": [],
   "source": []
  }
 ],
 "metadata": {
  "kernelspec": {
   "display_name": "Python 3 (ipykernel)",
   "language": "python",
   "name": "python3"
  },
  "language_info": {
   "codemirror_mode": {
    "name": "ipython",
    "version": 3
   },
   "file_extension": ".py",
   "mimetype": "text/x-python",
   "name": "python",
   "nbconvert_exporter": "python",
   "pygments_lexer": "ipython3",
   "version": "3.13.5"
  }
 },
 "nbformat": 4,
 "nbformat_minor": 5
}
